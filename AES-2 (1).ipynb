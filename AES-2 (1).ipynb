{
 "cells": [
  {
   "cell_type": "code",
   "execution_count": 18,
   "id": "39c31707-a529-4de0-96be-3d2ca18445ba",
   "metadata": {},
   "outputs": [
    {
     "name": "stderr",
     "output_type": "stream",
     "text": [
      "[nltk_data] Downloading package stopwords to\n",
      "[nltk_data]     C:\\Users\\MANASVI\\AppData\\Roaming\\nltk_data...\n",
      "[nltk_data]   Package stopwords is already up-to-date!\n"
     ]
    },
    {
     "data": {
      "text/plain": [
       "True"
      ]
     },
     "execution_count": 18,
     "metadata": {},
     "output_type": "execute_result"
    }
   ],
   "source": [
    "import numpy as np\n",
    "import pandas as pd\n",
    "from gensim.models import Word2Vec\n",
    "from sklearn.ensemble import RandomForestRegressor\n",
    "from sklearn.svm import SVR\n",
    "from sklearn.model_selection import train_test_split, GridSearchCV\n",
    "from sklearn.metrics import mean_squared_error\n",
    "import nltk\n",
    "from nltk.corpus import stopwords\n",
    "import string\n",
    "\n",
    "nltk.download('stopwords')"
   ]
  },
  {
   "cell_type": "code",
   "execution_count": 19,
   "id": "9a5479aa-0381-44c7-8068-1d2850bbb036",
   "metadata": {},
   "outputs": [],
   "source": [
    "# Load data\n",
    "data = pd.read_csv(\"dataset.tsv\", sep='\\t', encoding='ISO-8859-1')"
   ]
  },
  {
   "cell_type": "code",
   "execution_count": 20,
   "id": "8c71ec53-4fe6-458b-a115-c478ec03c4a3",
   "metadata": {},
   "outputs": [],
   "source": [
    "# Text preprocessing\n",
    "def preprocess_text(text):\n",
    "    stop_words = set(stopwords.words('english'))\n",
    "    text = text.lower()\n",
    "    text = text.translate(str.maketrans('', '', string.punctuation))\n",
    "    tokens = text.split()\n",
    "    tokens = [word for word in tokens if word not in stop_words]\n",
    "    return tokens\n",
    "\n",
    "data['processed_essay'] = data['essay'].apply(preprocess_text)\n",
    "\n",
    "# Train Word2Vec model\n",
    "w2v_model = Word2Vec(data['processed_essay'], vector_size=100, window=5, min_count=2, workers=4)\n",
    "\n",
    "# Convert essays to Word2Vec vectors\n",
    "def essay_to_vector(essay, model):\n",
    "    words = [word for word in essay if word in model.wv]\n",
    "    if len(words) == 0:  # if no words in essay are in the model's vocabulary\n",
    "        return np.zeros(100)\n",
    "    return np.mean(model.wv[words], axis=0)\n",
    "\n",
    "data['essay_vector'] = data['processed_essay'].apply(lambda x: essay_to_vector(x, w2v_model))\n",
    "X = np.vstack(data['essay_vector'].values)\n",
    "y = data['domain1_score'].values"
   ]
  },
  {
   "cell_type": "code",
   "execution_count": 21,
   "id": "e47771c9-399e-48d9-ba68-a5953f2d49cf",
   "metadata": {},
   "outputs": [],
   "source": [
    "# Split data into training and validation sets\n",
    "X_train, X_val, y_train, y_val = train_test_split(X, y, test_size=0.2, random_state=42)"
   ]
  },
  {
   "cell_type": "code",
   "execution_count": 22,
   "id": "a725a9ef-f6ab-412f-b76d-feba52c2b354",
   "metadata": {},
   "outputs": [
    {
     "name": "stdout",
     "output_type": "stream",
     "text": [
      "Validation Mean Squared Error: 8.423887916238657\n",
      "Score: 0.8918043016139029\n"
     ]
    }
   ],
   "source": [
    "# Define and train the Random Forest model\n",
    "rf_model = RandomForestRegressor(n_estimators=100, random_state=42)\n",
    "rf_model.fit(X_train, y_train)\n",
    "\n",
    "# Predict and evaluate the model\n",
    "y_pred1 = rf_model.predict(X_val)\n",
    "mse1 = mean_squared_error(y_val, y_pred1)\n",
    "print(f'Validation Mean Squared Error: {mse1}')\n",
    "\n",
    "print(\"Score:\",rf_model.score(X_val,y_val))"
   ]
  },
  {
   "cell_type": "code",
   "execution_count": 7,
   "id": "aad3568f-4d5d-44c0-9a05-a98edeedc732",
   "metadata": {},
   "outputs": [
    {
     "name": "stdout",
     "output_type": "stream",
     "text": [
      "Validation Mean Squared Error: 45.26055949636236\n",
      "Score: 0.4186772316124334\n"
     ]
    }
   ],
   "source": [
    "# Define and train the SVR model\n",
    "svr_model = SVR(kernel='linear', C=1.0, epsilon=0.2)\n",
    "svr_model.fit(X_train, y_train)\n",
    "\n",
    "# Predict and evaluate the model\n",
    "y_pred2 = svr_model.predict(X_val)\n",
    "mse2 = mean_squared_error(y_val, y_pred2)\n",
    "print(f'Validation Mean Squared Error: {mse2}')\n",
    "\n",
    "print(\"Score:\",svr_model.score(X_val,y_val))"
   ]
  },
  {
   "cell_type": "code",
   "execution_count": null,
   "id": "db4064e9-f531-4f3d-b03e-57b2bcbfbd21",
   "metadata": {},
   "outputs": [],
   "source": []
  }
 ],
 "metadata": {
  "kernelspec": {
   "display_name": "Python 3 (ipykernel)",
   "language": "python",
   "name": "python3"
  },
  "language_info": {
   "codemirror_mode": {
    "name": "ipython",
    "version": 3
   },
   "file_extension": ".py",
   "mimetype": "text/x-python",
   "name": "python",
   "nbconvert_exporter": "python",
   "pygments_lexer": "ipython3",
   "version": "3.11.7"
  }
 },
 "nbformat": 4,
 "nbformat_minor": 5
}
